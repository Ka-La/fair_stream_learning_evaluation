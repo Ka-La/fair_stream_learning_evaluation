{
 "cells": [
  {
   "cell_type": "code",
   "execution_count": 2,
   "metadata": {},
   "outputs": [],
   "source": [
    "from data_synthesizer.DataDescriber import DataDescriber\n",
    "from data_synthesizer.DataGenerator import DataGenerator\n",
    "from data_synthesizer.ModelInspector import ModelInspector\n",
    "from data_synthesizer.lib.utils import read_json_file, display_bayesian_network\n",
    "from data_synthesizer.lib.PrivBayes import construct_noisy_conditional_distributions\n",
    "from pathlib import Path\n",
    "from sklearn.utils import shuffle\n",
    "\n",
    "import pandas as pd\n",
    "\n",
    "description = f'/vol/kiakademie/stream_fairness_exp/adult_from_survey_description_preprocessed.json'\n",
    "clean_description = f'/vol/kiakademie/stream_fairness_exp/adult_from_survey_description_debiased_preprocessed.json'\n",
    "\n",
    "\n",
    "\n",
    "num_tuples_to_generate = 50000\n",
    "\n",
    "from DataManipulator import DataManipulator"
   ]
  },
  {
   "cell_type": "code",
   "execution_count": 3,
   "metadata": {},
   "outputs": [
    {
     "name": "stdout",
     "output_type": "stream",
     "text": [
      "[['relationship', ['sex']], ['age', ['relationship']], ['hours-per-week', ['sex', 'age', 'relationship']], ['workclass', ['hours-per-week', 'age', 'relationship']], ['occupation', ['hours-per-week', 'age', 'sex', 'workclass']], ['education', ['occupation', 'age', 'sex', 'workclass']], ['native-country', ['education', 'age', 'workclass']], ['marital-status', ['native-country', 'age', 'relationship']], ['race', ['native-country', 'age', 'sex', 'relationship']], ['capital-gain', ['relationship', 'occupation', 'education']], ['capital-loss', ['relationship', 'occupation', 'capital-gain']], ['income', ['relationship', 'occupation', 'capital-gain', 'capital-loss', 'age', 'education']]]\n"
     ]
    }
   ],
   "source": [
    "describer = DataDescriber()\n",
    "describer.data_description = read_json_file(description)\n",
    "bayesian_net = describer.data_description['bayesian_network']\n",
    "\n",
    "print(bayesian_net)"
   ]
  },
  {
   "cell_type": "code",
   "execution_count": 4,
   "metadata": {},
   "outputs": [],
   "source": [
    "def get_parent_values(description, parent):\n",
    "    parent_values = {}\n",
    "    bins = description['attribute_description'][parent]['distribution_bins']\n",
    "    for i in range(len(bins)):\n",
    "        parent_values[bins[i]] = i\n",
    "    \n",
    "    return parent_values\n",
    "\n",
    "def get_parent_indices(bn, child):\n",
    "    parent_indices = {}\n",
    "\n",
    "    for entry in bn:\n",
    "        if entry[0] == child:\n",
    "            i = 0\n",
    "            for parent in entry[1]:\n",
    "                parent_indices[parent] = i\n",
    "                i += 1\n",
    "    return parent_indices"
   ]
  },
  {
   "cell_type": "code",
   "execution_count": 6,
   "metadata": {},
   "outputs": [
    {
     "name": "stdout",
     "output_type": "stream",
     "text": [
      "{'sex': 0, 'age': 1, 'relationship': 2}\n"
     ]
    }
   ],
   "source": [
    "parent_indices = get_parent_indices(bayesian_net, 'hours-per-week')\n",
    "print(parent_indices)"
   ]
  },
  {
   "cell_type": "code",
   "execution_count": 7,
   "metadata": {},
   "outputs": [
    {
     "name": "stdout",
     "output_type": "stream",
     "text": [
      "{'40-60': 0, '<40': 1, '>60': 2}\n"
     ]
    }
   ],
   "source": [
    "print(get_parent_values(description=describer.data_description, parent='hours-per-week'))"
   ]
  },
  {
   "cell_type": "code",
   "execution_count": 12,
   "metadata": {},
   "outputs": [
    {
     "name": "stdout",
     "output_type": "stream",
     "text": [
      "{'Female': 0, 'Male': 1}\n"
     ]
    }
   ],
   "source": [
    "print(get_parent_values(description=describer.data_description, parent='sex'))"
   ]
  },
  {
   "cell_type": "code",
   "execution_count": 9,
   "metadata": {},
   "outputs": [
    {
     "name": "stdout",
     "output_type": "stream",
     "text": [
      "{'Divorced': 0, 'Married-AF-spouse': 1, 'Married-civ-spouse': 2, 'Married-spouse-absent': 3, 'Never-married': 4, 'Separated': 5, 'Widowed': 6}\n"
     ]
    }
   ],
   "source": [
    "print(get_parent_values(description=describer.data_description, parent='marital-status'))"
   ]
  },
  {
   "cell_type": "code",
   "execution_count": 10,
   "metadata": {},
   "outputs": [
    {
     "name": "stdout",
     "output_type": "stream",
     "text": [
      "{0.0: 0, 1.0: 1}\n"
     ]
    }
   ],
   "source": [
    "print(get_parent_values(description=describer.data_description, parent='income'))"
   ]
  },
  {
   "cell_type": "code",
   "execution_count": 38,
   "metadata": {},
   "outputs": [
    {
     "name": "stdout",
     "output_type": "stream",
     "text": [
      "Inducing drift for hours-per-week\n",
      "0 [0]\n",
      "0 [0]\n",
      "0 [0]\n",
      "0 [0]\n",
      "0 [0]\n",
      "0 [0]\n",
      "0 [0]\n",
      "0 [0]\n",
      "0 [0]\n",
      "0 [0]\n",
      "0 [0]\n",
      "0 [0]\n",
      "0 [0]\n",
      "0 [0]\n",
      "0 [0]\n",
      "0 [0]\n",
      "0 [0]\n",
      "0 [0]\n",
      "0 [0]\n",
      "1 is not used for drift because parent values are [0]\n",
      "0 [0]\n",
      "1 is not used for drift because parent values are [0]\n",
      "0 [0]\n",
      "1 is not used for drift because parent values are [0]\n",
      "0 [0]\n",
      "1 is not used for drift because parent values are [0]\n",
      "0 [0]\n",
      "1 is not used for drift because parent values are [0]\n",
      "0 [0]\n",
      "1 is not used for drift because parent values are [0]\n",
      "0 [0]\n",
      "1 is not used for drift because parent values are [0]\n",
      "0 [0]\n",
      "1 is not used for drift because parent values are [0]\n",
      "0 [0]\n",
      "1 is not used for drift because parent values are [0]\n",
      "0 [0]\n",
      "1 is not used for drift because parent values are [0]\n",
      "0 [0]\n",
      "1 is not used for drift because parent values are [0]\n",
      "0 [0]\n",
      "1 is not used for drift because parent values are [0]\n",
      "0 [0]\n",
      "1 is not used for drift because parent values are [0]\n",
      "0 [0]\n",
      "1 is not used for drift because parent values are [0]\n",
      "0 [0]\n",
      "1 is not used for drift because parent values are [0]\n",
      "0 [0]\n",
      "1 is not used for drift because parent values are [0]\n",
      "0 [0]\n",
      "1 is not used for drift because parent values are [0]\n",
      "0 [0]\n",
      "1 is not used for drift because parent values are [0]\n"
     ]
    }
   ],
   "source": [
    "manipulator = DataManipulator()\n",
    "\n",
    "out_file = f'./data/adult/women_work_full_on_unmodified_scenario_description.json'\n",
    "\n",
    "#hours-per-week increased for women: 2.0*40-60, 0.0*<40, 1.5*60+ (Note: American workhours are long...)\n",
    "scenario_women_work_full = {'hours-per-week': {'dist':[2.0, 0.0, 1.5], 'parent_indices': [0], 'parent_values' : {0 : [0]} }} #increase only for sex = Female\n",
    "changing_attributes = ['hours-per-week']\n",
    "\n",
    "manipulator.induce_data_drift(description_file=description, out_file=out_file, changing_attributes=changing_attributes, add_dist=scenario_women_work_full)"
   ]
  },
  {
   "cell_type": "code",
   "execution_count": 39,
   "metadata": {},
   "outputs": [
    {
     "name": "stdout",
     "output_type": "stream",
     "text": [
      "Inducing drift for hours-per-week\n",
      "0 [1]\n",
      "0 is not used for drift because parent values are [1]\n",
      "0 [1]\n",
      "0 is not used for drift because parent values are [1]\n",
      "0 [1]\n",
      "0 is not used for drift because parent values are [1]\n",
      "0 [1]\n",
      "0 is not used for drift because parent values are [1]\n",
      "0 [1]\n",
      "0 is not used for drift because parent values are [1]\n",
      "0 [1]\n",
      "0 is not used for drift because parent values are [1]\n",
      "0 [1]\n",
      "0 is not used for drift because parent values are [1]\n",
      "0 [1]\n",
      "0 is not used for drift because parent values are [1]\n",
      "0 [1]\n",
      "0 is not used for drift because parent values are [1]\n",
      "0 [1]\n",
      "0 is not used for drift because parent values are [1]\n",
      "0 [1]\n",
      "0 is not used for drift because parent values are [1]\n",
      "0 [1]\n",
      "0 is not used for drift because parent values are [1]\n",
      "0 [1]\n",
      "0 is not used for drift because parent values are [1]\n",
      "0 [1]\n",
      "0 is not used for drift because parent values are [1]\n",
      "0 [1]\n",
      "0 is not used for drift because parent values are [1]\n",
      "0 [1]\n",
      "0 is not used for drift because parent values are [1]\n",
      "0 [1]\n",
      "0 is not used for drift because parent values are [1]\n",
      "0 [1]\n",
      "0 is not used for drift because parent values are [1]\n",
      "0 [1]\n",
      "0 [1]\n",
      "0 [1]\n",
      "0 [1]\n",
      "0 [1]\n",
      "0 [1]\n",
      "0 [1]\n",
      "0 [1]\n",
      "0 [1]\n",
      "0 [1]\n",
      "0 [1]\n",
      "0 [1]\n",
      "0 [1]\n",
      "0 [1]\n",
      "0 [1]\n",
      "0 [1]\n",
      "0 [1]\n",
      "0 [1]\n"
     ]
    }
   ],
   "source": [
    "manipulator = DataManipulator()\n",
    "\n",
    "out_file = f'./data/adult/men_work_full_on_unmodified_scenario_description.json'\n",
    "\n",
    "#hours-per-week increased for women: 2.0*40-60, 0.5*<40, 1.5*60+ (Note: American workhours are long...)\n",
    "scenario_men_work_full = {'hours-per-week': {'dist':[2.0, 0.5, 1.5], 'parent_indices': [0], 'parent_values' : {0 : [1]} }} #increase only for sex = Male\n",
    "changing_attributes = ['hours-per-week']\n",
    "\n",
    "manipulator.induce_data_drift(description_file=description, out_file=out_file, changing_attributes=changing_attributes, add_dist=scenario_men_work_full)"
   ]
  },
  {
   "cell_type": "code",
   "execution_count": null,
   "metadata": {},
   "outputs": [],
   "source": [
    "manipulator = DataManipulator()\n",
    "\n",
    "out_file = f'./data/adult/women_stem_on_unmodified_scenario_description.json'\n",
    "\n",
    "#Women will be made more likely to be in Armed-Forces, Craft-Repair, Tech-support; less likely in Adm-clerical positions\n",
    "#note: one distribution bin not listed - no entry?\n",
    "scenario_women_stem = {'occupation': {'dist':[1.0, 0.25, 1.75, 1.75, 1.0, 1.0, 1.0, 1.0, 1.0, 1.0, 1.0, 1.0, 1.0, 1.75, 1.0, 1.0], 'parent_indices': [2], 'parent_values' : {2 : [0]} }} #increase STEM jobs for women\n",
    "changing_attributes = ['occupation']\n",
    "\n",
    "manipulator.induce_data_drift(description_file=description, out_file=out_file, changing_attributes=changing_attributes, add_dist=scenario_women_stem)"
   ]
  },
  {
   "cell_type": "code",
   "execution_count": 16,
   "metadata": {},
   "outputs": [
    {
     "name": "stdout",
     "output_type": "stream",
     "text": [
      "Inducing drift for marital-status\n"
     ]
    }
   ],
   "source": [
    "manipulator = DataManipulator()\n",
    "\n",
    "out_file = f'./data/adult/less_marriage_on_unmodified_scenario_description.json'\n",
    "\n",
    "#{'Divorced': 0, 'Married-AF-spouse': 1, 'Married-civ-spouse': 2, 'Married-spouse-absent': 3, 'Never-married': 4, 'Separated': 5, 'Widowed': 6}\n",
    "\n",
    "scenario_less_marriage = {'marital-status': {'dist':[1.5, 0.8, 0.8, 0.8, 1.5, 1.5, 1.0, 1.0]}} #distribution above gets modified as such\n",
    "changing_attributes = ['marital-status']\n",
    "\n",
    "manipulator.induce_data_drift(description_file=description, out_file=out_file, changing_attributes=changing_attributes, add_dist=scenario_less_marriage, non_disc=True)"
   ]
  },
  {
   "cell_type": "code",
   "execution_count": 17,
   "metadata": {},
   "outputs": [
    {
     "name": "stdout",
     "output_type": "stream",
     "text": [
      "Inducing drift for income\n",
      "Inducing drift for capital-gain\n",
      "Inducing drift for capital-loss\n"
     ]
    }
   ],
   "source": [
    "manipulator = DataManipulator()\n",
    "\n",
    "out_file = f'./data/adult/inflation_on_unmodified_scenario_description.json'\n",
    "\n",
    "scenario_inflation = {'income': {'dist':[0.5, 1.5]}, 'capital-gain':  {'dist':[0.5, 1,5]}, 'capital-loss': {'dist':[0.5, 1.5]}} #generally increase everything relating to value of money - both income and losses\n",
    "changing_attributes = ['income', 'capital-gain', 'capital-loss']\n",
    "\n",
    "manipulator.induce_data_drift(description_file=description, out_file=out_file, changing_attributes=changing_attributes, add_dist=scenario_inflation, non_disc=True)"
   ]
  },
  {
   "cell_type": "code",
   "execution_count": 18,
   "metadata": {},
   "outputs": [],
   "source": [
    "def generate_arff_head(description):\n",
    "    for attribute in description['meta']['all_attributes']:\n",
    "        if not attribute in description['meta']['candidate_keys']:\n",
    "            bins = description['attribute_description'][attribute]['distribution_bins']\n",
    "\n",
    "            val_string = \"{ \"\n",
    "\n",
    "            for val in bins[:-1]:\n",
    "                val_string += (str(val) + \", \")\n",
    "\n",
    "            val_string += (str(bins[-1]) + \"}\")\n",
    "\n",
    "            print(\"@attribute \" + attribute + \" \" + val_string)"
   ]
  },
  {
   "cell_type": "code",
   "execution_count": 19,
   "metadata": {},
   "outputs": [
    {
     "name": "stdout",
     "output_type": "stream",
     "text": [
      "@attribute age { 25-60, <25, >60}\n",
      "@attribute workclass { ?, Federal-gov, Local-gov, Never-worked, Private, Self-emp-inc, Self-emp-not-inc, State-gov, Without-pay}\n",
      "@attribute fnlwgt { 12285.0, 86190.75, 160096.5, 234002.25, 307908.0, 381813.75, 455719.5, 529625.25, 603531.0, 677436.75, 751342.5, 825248.25, 899154.0, 973059.75, 1046965.5, 1120871.25, 1194777.0, 1268682.75, 1342588.5, 1416494.25}\n",
      "@attribute education { 10th, 11th, 12th, 1st-4th, 5th-6th, 7th-8th, 9th, Assoc-acdm, Assoc-voc, Bachelors, Doctorate, HS-grad, Masters, Preschool, Prof-school, Some-college}\n",
      "@attribute education-num { 1, 2, 3, 4, 5, 6, 7, 8, 9, 10, 11, 12, 13, 14, 15, 16}\n",
      "@attribute marital-status { Divorced, Married-AF-spouse, Married-civ-spouse, Married-spouse-absent, Never-married, Separated, Widowed}\n",
      "@attribute occupation { ?, Adm-clerical, Armed-Forces, Craft-repair, Exec-managerial, Farming-fishing, Handlers-cleaners, Machine-op-inspct, Other-service, Priv-house-serv, Prof-specialty, Protective-serv, Sales, Tech-support, Transport-moving}\n",
      "@attribute relationship { Husband, Not-in-family, Other-relative, Own-child, Unmarried, Wife}\n",
      "@attribute race { Amer-Indian-Eskimo, Asian-Pac-Islander, Black, Other, White}\n",
      "@attribute sex { Female, Male}\n",
      "@attribute capital-gain { <=5000, >5000}\n",
      "@attribute capital-loss { <=40, >40}\n",
      "@attribute hours-per-week { 40-60, <40, >60}\n",
      "@attribute native-country { ?, Cambodia, Canada, China, Columbia, Cuba, Dominican-Republic, Ecuador, El-Salvador, England, France, Germany, Greece, Guatemala, Haiti, Holand-Netherlands, Honduras, Hong, Hungary, India, Iran, Ireland, Italy, Jamaica, Japan, Laos, Mexico, Nicaragua, Outlying-US(Guam-USVI-etc), Peru, Philippines, Poland, Portugal, Puerto-Rico, Scotland, South, Taiwan, Thailand, Trinadad&Tobago, United-States, Vietnam, Yugoslavia}\n",
      "@attribute income { 0.0, 1.0}\n"
     ]
    }
   ],
   "source": [
    "generate_arff_head(describer.data_description)"
   ]
  },
  {
   "cell_type": "code",
   "execution_count": 20,
   "metadata": {},
   "outputs": [],
   "source": [
    "#transform data for arff format - note: head needs to be once manually perfected with data from above ;)\n",
    "#also, all the inputs  except for the arff_head are INCOMPLETE paths, as this gets done for multiple repetitions in here (maybe I should do it in an outer loop? Whatever...)\n",
    "\n",
    "def create_arffs(in_csv, arff_head, temp_middle_csv, out_arff):\n",
    "\n",
    "    for repetition in range(10):\n",
    "        df = pd.read_csv(f\"{in_csv}{repetition}.csv\", index_col=False)\n",
    "        data = df.to_dict(orient='records')\n",
    "        new_data = []\n",
    "        for i in range(len(data)):\n",
    "            entry = data[i]\n",
    "            new_entry = {}\n",
    "            for k in entry.keys():\n",
    "                if k in ['G1', 'G2', 'G3']:\n",
    "                    if int(entry[k]) < 10:\n",
    "                        value = 0\n",
    "                    elif int(entry[k]) >= 10:\n",
    "                        value = 1\n",
    "                else:\n",
    "                    value = entry[k]\n",
    "                if value is None or value == '':\n",
    "                    value = '?'\n",
    "                new_entry[k] = value\n",
    "            new_data.append(new_entry)\n",
    "        new_df = pd.DataFrame(new_data)\n",
    "        new_df.to_csv(f\"{temp_middle_csv}{repetition}.csv\", index=False)\n",
    "\n",
    "\n",
    "        filenames = [f\"{arff_head}\",f\"{temp_middle_csv}{repetition}.csv\"]\n",
    "        with open(f\"{out_arff}{repetition}.arff\", 'w') as outfile:\n",
    "            i = 0\n",
    "            for fname in filenames:\n",
    "                with open(fname) as infile:\n",
    "                    j = 0\n",
    "                    for line in infile:\n",
    "                        if not j<i:\n",
    "                            outfile.write(line)\n",
    "                        j += 1\n",
    "                i += 1"
   ]
  },
  {
   "cell_type": "code",
   "execution_count": 23,
   "metadata": {},
   "outputs": [
    {
     "name": "stdout",
     "output_type": "stream",
     "text": [
      "Index(['Unnamed: 0.1', 'Unnamed: 0', 'age', 'workclass', 'fnlwgt', 'education',\n",
      "       'education-num', 'marital-status', 'occupation', 'relationship', 'race',\n",
      "       'sex', 'capital-gain', 'capital-loss', 'hours-per-week',\n",
      "       'native-country', 'income'],\n",
      "      dtype='object')\n"
     ]
    }
   ],
   "source": [
    "scenario = 'unmodified'\n",
    "'''\n",
    "generator = DataGenerator()\n",
    "generator.generate_dataset_in_correlated_attribute_mode(num_tuples_to_generate, description)\n",
    "generator.save_synthetic_data(f\"./data/adult/{scenario}.csv\")\n",
    "'''\n",
    "\n",
    "\n",
    "df = pd.read_csv(f'./data/adult/{scenario}.csv', index_col = False)\n",
    "print(df.columns)\n",
    "df.drop([\"Unnamed: 0\", \"fnlwgt\", \"education-num\"], axis=1,inplace=True)\n",
    "\n",
    "for repetition in range(10):\n",
    "    df = shuffle(df)\n",
    "    df.dropna(inplace=True)\n",
    "    df.to_csv(f\"./data/adult/{scenario}/run_{repetition}.csv\", index=False)\n",
    "\n",
    "\n",
    "in_csv = f\"./data/adult/{scenario}/run_\"\n",
    "arff_head = f\"./data/adult/arff_head.arff\"\n",
    "tem_middle_csv = f\"./data/adult/{scenario}_preprocessed/run_\"\n",
    "out_arff = f\"./data/adult/{scenario}_preprocessed/run_\"\n",
    "\n",
    "create_arffs(in_csv, arff_head=arff_head, temp_middle_csv=tem_middle_csv, out_arff=out_arff)"
   ]
  },
  {
   "cell_type": "code",
   "execution_count": 41,
   "metadata": {},
   "outputs": [
    {
     "name": "stdout",
     "output_type": "stream",
     "text": [
      "Unnamed: 0.1 gets processed\n",
      "Unnamed: 0 gets processed\n",
      "age gets processed\n",
      "workclass gets processed\n",
      "fnlwgt gets processed\n",
      "education gets processed\n",
      "education-num gets processed\n",
      "marital-status gets processed\n",
      "occupation gets processed\n",
      "relationship gets processed\n",
      "race gets processed\n",
      "sex gets processed\n",
      "capital-gain gets processed\n",
      "capital-loss gets processed\n",
      "hours-per-week gets processed\n",
      "native-country gets processed\n",
      "income gets processed\n",
      "Index(['Unnamed: 0.1', 'Unnamed: 0', 'age', 'workclass', 'fnlwgt', 'education',\n",
      "       'education-num', 'marital-status', 'occupation', 'relationship', 'race',\n",
      "       'sex', 'capital-gain', 'capital-loss', 'hours-per-week',\n",
      "       'native-country', 'income'],\n",
      "      dtype='object')\n"
     ]
    }
   ],
   "source": [
    "\n",
    "scenario = 'men_work_full'\n",
    "\n",
    "generator = DataGenerator()\n",
    "generator.generate_dataset_in_correlated_attribute_mode(num_tuples_to_generate, f'./data/adult/{scenario}_on_unmodified_scenario_description.json')\n",
    "generator.save_synthetic_data(f\"./data/adult/{scenario}.csv\")\n",
    "\n",
    "\n",
    "\n",
    "df = pd.read_csv(f'./data/adult/{scenario}.csv', index_col = False)\n",
    "print(df.columns)\n",
    "df.drop([\"Unnamed: 0\", \"fnlwgt\", \"education-num\"], axis=1,inplace=True)\n",
    "\n",
    "for repetition in range(10):\n",
    "    df = shuffle(df)\n",
    "    df.dropna(inplace=True)\n",
    "    df.to_csv(f\"./data/adult/{scenario}/run_{repetition}.csv\", index=False)\n",
    "\n",
    "\n",
    "in_csv = f\"./data/adult/{scenario}/run_\"\n",
    "arff_head = f\"./data/adult/arff_head.arff\"\n",
    "tem_middle_csv = f\"./data/adult/{scenario}_preprocessed/run_\"\n",
    "out_arff = f\"./data/adult/{scenario}_preprocessed/run_\"\n",
    "\n",
    "create_arffs(in_csv, arff_head=arff_head, temp_middle_csv=tem_middle_csv, out_arff=out_arff)"
   ]
  },
  {
   "cell_type": "code",
   "execution_count": 21,
   "metadata": {},
   "outputs": [],
   "source": [
    "#transform data for arff format - note: head needs to be once manually perfected with data from above ;)\n",
    "#also, all the inputs  except for the arff_head are INCOMPLETE paths, as this gets done for multiple repetitions in here (maybe I should do it in an outer loop? Whatever...)\n",
    "\n",
    "#MODIFIED - High class only for 14+ instead of 10+ !!!\n",
    "\n",
    "def create_arffs_diff_class(in_csv, arff_head, temp_middle_csv, out_arff):\n",
    "\n",
    "    for repetition in range(10):\n",
    "        df = pd.read_csv(f\"{in_csv}{repetition}.csv\", index_col=False)\n",
    "        data = df.to_dict(orient='records')\n",
    "        new_data = []\n",
    "        for i in range(len(data)):\n",
    "            entry = data[i]\n",
    "            new_entry = {}\n",
    "            for k in entry.keys():\n",
    "                if k in ['G1', 'G2', 'G3']:\n",
    "                    if int(entry[k]) < 14:\n",
    "                        value = 0\n",
    "                    elif int(entry[k]) >= 14:\n",
    "                        value = 1\n",
    "                else:\n",
    "                    value = entry[k]\n",
    "                if value is None or value == '':\n",
    "                    value = '?'\n",
    "                new_entry[k] = value\n",
    "            new_data.append(new_entry)\n",
    "        new_df = pd.DataFrame(new_data)\n",
    "        new_df.to_csv(f\"{temp_middle_csv}{repetition}.csv\", index=False)\n",
    "\n",
    "\n",
    "        filenames = [f\"{arff_head}\",f\"{temp_middle_csv}{repetition}.csv\"]\n",
    "        with open(f\"{out_arff}{repetition}.arff\", 'w') as outfile:\n",
    "            i = 0\n",
    "            for fname in filenames:\n",
    "                with open(fname) as infile:\n",
    "                    j = 0\n",
    "                    for line in infile:\n",
    "                        if not j<i:\n",
    "                            outfile.write(line)\n",
    "                        j += 1\n",
    "                i += 1"
   ]
  },
  {
   "cell_type": "code",
   "execution_count": 22,
   "metadata": {},
   "outputs": [],
   "source": [
    "\n",
    "scenario = 'grade_category_adjusted'\n",
    "\n",
    "in_csv = f\"./data/student_performance/unmodified/run_\"\n",
    "arff_head = f\"./data/student_performance/arff_head.arff\"\n",
    "tem_middle_csv = f\"./data/student_performance/{scenario}_preprocessed/run_\"\n",
    "out_arff = f\"./data/student_performance/{scenario}_preprocessed/run_\"\n",
    "\n",
    "create_arffs_diff_class(in_csv, arff_head=arff_head, temp_middle_csv=tem_middle_csv, out_arff=out_arff)"
   ]
  },
  {
   "cell_type": "code",
   "execution_count": 31,
   "metadata": {},
   "outputs": [],
   "source": [
    "def merge_datasets(pre_data_path, post_data_path, name, driftpoint, arff_head):\n",
    "\n",
    "    for i in range(10):\n",
    "        pre_drift = pd.read_csv(pre_data_path + \"/run_\" + str(i) +\".csv\")\n",
    "        post_drift = pd.read_csv(post_data_path + \"/run_\" + str(i) +\".csv\")\n",
    "\n",
    "        pre_df = pre_drift.iloc[:driftpoint,:]\n",
    "        post_df = post_drift.iloc[driftpoint:,:]\n",
    "\n",
    "        new = pd.concat([pre_df, post_df])\n",
    "        new.to_csv(name + \"/run_\" + str(i) + \".csv\", index=False)\n",
    "\n",
    "        filenames = [f\"{arff_head}\",f\"{name}/run_{i}.csv\"]\n",
    "        with open(f\"{name}/run_{i}.arff\", 'w') as outfile:\n",
    "            i = 0\n",
    "            for fname in filenames:\n",
    "                with open(fname) as infile:\n",
    "                    j = 0\n",
    "                    for line in infile:\n",
    "                        if not j<i:\n",
    "                            outfile.write(line)\n",
    "                        j += 1\n",
    "                i += 1\n",
    "\n"
   ]
  },
  {
   "cell_type": "code",
   "execution_count": 43,
   "metadata": {},
   "outputs": [],
   "source": [
    "scenario = 'women_work_full'\n",
    "\n",
    "arff_head = f\"./data/adult/arff_head.arff\"\n",
    "\n",
    "pre = f\"./data/adult/unmodified_preprocessed\"\n",
    "post = f\"./data/adult/{scenario}_preprocessed\"\n",
    "\n",
    "driftpoint = 25000\n",
    "name = f\"./data/adult/unmodified_to_{scenario}_{driftpoint}\"\n",
    "\n",
    "try:\n",
    "    Path.mkdir(f\"./data/adult/unmodified_to_{scenario}_{driftpoint}\")\n",
    "except Exception as e:\n",
    "    print(\"An error occured: \" + str(e))\n",
    "\n",
    "merge_datasets(pre_data_path=pre, post_data_path=post, name=name, driftpoint=driftpoint, arff_head=arff_head)"
   ]
  }
 ],
 "metadata": {
  "kernelspec": {
   "display_name": "working_python",
   "language": "python",
   "name": "python3"
  },
  "language_info": {
   "codemirror_mode": {
    "name": "ipython",
    "version": 3
   },
   "file_extension": ".py",
   "mimetype": "text/x-python",
   "name": "python",
   "nbconvert_exporter": "python",
   "pygments_lexer": "ipython3",
   "version": "3.11.10"
  }
 },
 "nbformat": 4,
 "nbformat_minor": 2
}
